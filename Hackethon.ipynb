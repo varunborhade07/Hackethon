{
 "cells": [
  {
   "cell_type": "code",
   "execution_count": 1,
   "id": "63f9332b",
   "metadata": {},
   "outputs": [
    {
     "name": "stdout",
     "output_type": "stream",
     "text": [
      "Enter a number: 4\n",
      "The square root of 4.0 is 2.0\n"
     ]
    }
   ],
   "source": [
    "# Q1\n",
    "n = float(input('Enter a number: '))\n",
    "n_sqrt = n ** 0.5\n",
    "print('The square root of {0} is {1}'.format(n ,n_sqrt))"
   ]
  },
  {
   "cell_type": "code",
   "execution_count": 2,
   "id": "cb60b821",
   "metadata": {},
   "outputs": [
    {
     "name": "stdout",
     "output_type": "stream",
     "text": [
      "enter value of x:5\n",
      "enter value of y:7\n",
      "they are unequal\n",
      "they are unequal\n",
      "they are unequal\n",
      "they are unequal\n",
      "they are unequal\n",
      "they are unequal\n",
      "they are unequal\n",
      "they are equal\n",
      "they are unequal\n",
      "they are unequal\n"
     ]
    }
   ],
   "source": [
    "# Q2\n",
    "X= int(input('enter value of x:'))\n",
    "y= int(input('enter value of y:'))\n",
    "for X in range(0,10):\n",
    "    if X==y:\n",
    "        print('they are equal')\n",
    "    else:\n",
    "        print('they are unequal')\n"
   ]
  },
  {
   "cell_type": "code",
   "execution_count": 3,
   "id": "534dbc67",
   "metadata": {},
   "outputs": [
    {
     "name": "stdout",
     "output_type": "stream",
     "text": [
      "0\n"
     ]
    }
   ],
   "source": [
    "# Q3\n",
    "A,b = 0,0\n",
    "if(A ==b):\n",
    "    z=A+b \n",
    "    print(z)"
   ]
  },
  {
   "cell_type": "code",
   "execution_count": 4,
   "id": "62923998",
   "metadata": {},
   "outputs": [
    {
     "name": "stdout",
     "output_type": "stream",
     "text": [
      "250\n",
      "500\n",
      "750\n",
      "\n",
      "fee\n",
      "feefee\n",
      "feefeefee\n",
      "feefeefeefee\n"
     ]
    }
   ],
   "source": [
    "# Q4\n",
    "fee = 250\n",
    "i = 0\n",
    "\n",
    "while fee <= 2000:\n",
    "    if fee <= 750:\n",
    "        print(fee)\n",
    "    else:\n",
    "        print(\"fee\" * i)\n",
    "        i = i + 1\n",
    "    fee = fee + 250\n",
    "\n"
   ]
  },
  {
   "cell_type": "code",
   "execution_count": 5,
   "id": "ab10b901",
   "metadata": {},
   "outputs": [
    {
     "name": "stdout",
     "output_type": "stream",
     "text": [
      "1\n",
      "0\n",
      "3\n",
      "2\n",
      "5\n",
      "4\n",
      "7\n",
      "6\n",
      "9\n",
      "8\n"
     ]
    }
   ],
   "source": [
    "# Q5\n",
    "step = 10\n",
    "for e in range(0,step):\n",
    "    if e %2 == 0:\n",
    "        print(e+1)\n",
    "    else:\n",
    "        print(e-1)\n"
   ]
  },
  {
   "cell_type": "code",
   "execution_count": 10,
   "id": "d8e9bd75",
   "metadata": {},
   "outputs": [
    {
     "name": "stdout",
     "output_type": "stream",
     "text": [
      "hello all\n"
     ]
    }
   ],
   "source": [
    "# Q7\n",
    "print('hello all') \n",
    "for i in range(2,5):\n",
    "    for i in range(1,10):\n",
    "        def title():\n",
    "            if i <=5:\n",
    "                print(I)"
   ]
  },
  {
   "cell_type": "code",
   "execution_count": 15,
   "id": "990496a0",
   "metadata": {},
   "outputs": [
    {
     "name": "stdout",
     "output_type": "stream",
     "text": [
      "w\n",
      "e\n",
      "l\n",
      "c\n",
      "o\n",
      "m\n",
      "e\n",
      " \n",
      "t\n",
      "o\n",
      " \n",
      "s\n",
      "y\n",
      "m\n",
      "b\n",
      "i\n",
      "o\n",
      "s\n",
      "i\n",
      "s\n"
     ]
    }
   ],
   "source": [
    "# Q6\n",
    "Str ='welcome to symbiosis'\n",
    "for s in Str:\n",
    "    print(s)"
   ]
  },
  {
   "cell_type": "code",
   "execution_count": 27,
   "id": "e5dfacf1",
   "metadata": {},
   "outputs": [
    {
     "name": "stdout",
     "output_type": "stream",
     "text": [
      "notmaiden\n",
      "notmaiden\n",
      "notmaiden\n",
      "notmaiden\n",
      "maiden\n",
      "notmaiden\n"
     ]
    }
   ],
   "source": [
    "# Q10\n",
    "runs = (1,6,7,8,0,99)\n",
    "for i in runs:\n",
    "    if i == 0:\n",
    "        print('maiden')\n",
    "    else:\n",
    "        print('notmaiden')"
   ]
  },
  {
   "cell_type": "code",
   "execution_count": 28,
   "id": "ece7fb20",
   "metadata": {},
   "outputs": [
    {
     "name": "stdout",
     "output_type": "stream",
     "text": [
      "anu\n"
     ]
    }
   ],
   "source": [
    "# Q9\n",
    "A = {6:'anu',7:'sumit',5: 'me'}\n",
    "for i in A:\n",
    "    if int(i)% 3== 0:\n",
    "        print(A[i])"
   ]
  },
  {
   "cell_type": "code",
   "execution_count": 29,
   "id": "7614146c",
   "metadata": {},
   "outputs": [
    {
     "name": "stdout",
     "output_type": "stream",
     "text": [
      "L\n",
      "L\n",
      "L\n",
      "L\n",
      "L\n",
      "L\n",
      "L\n",
      "L\n"
     ]
    }
   ],
   "source": [
    "# Q8\n",
    "L = [1,2,3,4,5,6,'e','f']\n",
    "for i in L:\n",
    "    if i =='a': \n",
    "        break\n",
    "    else:\n",
    "        print(\"L\")"
   ]
  },
  {
   "cell_type": "code",
   "execution_count": 30,
   "id": "2f920957",
   "metadata": {},
   "outputs": [
    {
     "name": "stdout",
     "output_type": "stream",
     "text": [
      "['A', 'L', 'L', ' ', 'i', 's', ' ', 'w', 'e', 'l', 'l']\n"
     ]
    }
   ],
   "source": [
    "# Q4\n",
    "str1 = \"ALL is well\"\n",
    "str_list = list(str1)\n",
    "print(str_list)"
   ]
  },
  {
   "cell_type": "code",
   "execution_count": null,
   "id": "aec36ae9",
   "metadata": {},
   "outputs": [],
   "source": []
  },
  {
   "cell_type": "code",
   "execution_count": 18,
   "id": "800bd01f",
   "metadata": {},
   "outputs": [
    {
     "name": "stdout",
     "output_type": "stream",
     "text": [
      "Enter a string : a\n",
      "position is 0\n"
     ]
    }
   ],
   "source": [
    "# Q1\n",
    "A = [\"a\", \"b\",\"c\",\"d\"]\n",
    "B = input(\"Enter a string : \")\n",
    "if B in A:\n",
    "    position = A.index(B)\n",
    "    print(\"position is\",position)\n",
    "else:\n",
    "    print(\"not present\")\n"
   ]
  },
  {
   "cell_type": "code",
   "execution_count": 20,
   "id": "d008c517",
   "metadata": {},
   "outputs": [
    {
     "name": "stdout",
     "output_type": "stream",
     "text": [
      " List of sqare: [1, 4, 9, 16, 25]\n"
     ]
    }
   ],
   "source": [
    "# Q5\n",
    "a = [1, 2, 3, 4, 5]\n",
    "b = [x ** 2 for x in a]\n",
    "print(\" List of sqare:\",b )\n"
   ]
  },
  {
   "cell_type": "code",
   "execution_count": 24,
   "id": "414d340e",
   "metadata": {},
   "outputs": [
    {
     "name": "stdout",
     "output_type": "stream",
     "text": [
      "This: 1\n",
      "is: 1\n",
      "a: 1\n",
      "sample: 1\n",
      "text.: 1\n"
     ]
    }
   ],
   "source": [
    "# Q2\n",
    "def count_words(input_string):\n",
    "    word_list = input_string.split() \n",
    "    word_count = {}\n",
    "\n",
    "    for word in word_list:\n",
    "        word_count[word] = word_count.get(word, 0) + 1\n",
    "\n",
    "    return word_count\n",
    "if __name__ == \"__main__\":\n",
    "    input_text = \"This is a sample text.\"\n",
    "    result = count_words(input_text)\n",
    "\n",
    "    # Display the result\n",
    "    for word, count in result.items():\n",
    "        print(f\"{word}: {count}\")\n",
    "\n"
   ]
  },
  {
   "cell_type": "code",
   "execution_count": 25,
   "id": "9f619370",
   "metadata": {},
   "outputs": [],
   "source": [
    "# Q3\n",
    "class mobile:\n",
    "    def _init_(self, owner, brand, color, camera_pixel):\n",
    "        self.owner = owner\n",
    "        self.brand = brand\n",
    "        self.color = color\n",
    "        self.camera_pixel = camera_pixel\n",
    "\n",
    "    def display(self):\n",
    "        print(f\"mobile Owner: {self.owner}\")\n",
    "        print(f\"mobile Brand: {self.brand}\")\n",
    "        print(f\"Color: {self.color}\")\n",
    "        print(f\"Camera Pixel: {self.camera_pixel} MP\")"
   ]
  },
  {
   "cell_type": "code",
   "execution_count": null,
   "id": "5d8ca1bd",
   "metadata": {},
   "outputs": [],
   "source": [
    "phone = mobile(owner='abc',brand='Samsung',color='black',camera_pixel=50)\n",
    "phone.display()"
   ]
  },
  {
   "cell_type": "code",
   "execution_count": null,
   "id": "01b22e8d",
   "metadata": {},
   "outputs": [],
   "source": []
  }
 ],
 "metadata": {
  "kernelspec": {
   "display_name": "Python 3 (ipykernel)",
   "language": "python",
   "name": "python3"
  },
  "language_info": {
   "codemirror_mode": {
    "name": "ipython",
    "version": 3
   },
   "file_extension": ".py",
   "mimetype": "text/x-python",
   "name": "python",
   "nbconvert_exporter": "python",
   "pygments_lexer": "ipython3",
   "version": "3.11.4"
  }
 },
 "nbformat": 4,
 "nbformat_minor": 5
}
